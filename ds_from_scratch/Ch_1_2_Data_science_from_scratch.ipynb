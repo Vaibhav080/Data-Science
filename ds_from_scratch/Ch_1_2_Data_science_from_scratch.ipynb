{
 "cells": [
  {
   "cell_type": "markdown",
   "metadata": {},
   "source": [
    "# Container\n",
    "defaultdict\n",
    "counter\n",
    "__future__\n",
    "most_common()"
   ]
  },
  {
   "cell_type": "markdown",
   "metadata": {},
   "source": [
    "# Chapter 2\n",
    "Some cool code snippets:"
   ]
  },
  {
   "cell_type": "code",
   "execution_count": 98,
   "metadata": {},
   "outputs": [
    {
     "name": "stdout",
     "output_type": "stream",
     "text": [
      "V\n",
      "[('e', 5), ('c', 4)]\n"
     ]
    }
   ],
   "source": [
    "s=\"Vaibhav\"\n",
    "if s:\n",
    "    first_char = s[0]\n",
    "else:\n",
    "    first_char = \"\"\n",
    "print(first_char)\n",
    "\n",
    "import collections as c\n",
    "a=c.Counter(\"aabbbccccddddeeeee\")\n",
    "b=a.most_common(2)\n",
    "print(b)"
   ]
  },
  {
   "cell_type": "code",
   "execution_count": 21,
   "metadata": {},
   "outputs": [
    {
     "name": "stdout",
     "output_type": "stream",
     "text": [
      "defaultdict(<class 'int'>, {'key1': 1})\n",
      "defaultdict(<class 'list'>, {'apple': ['red', 'green'], 'banana': ['yellow'], 'orange': ['orange']})\n"
     ]
    }
   ],
   "source": [
    "# Using container module\n",
    "# Use cases for default_dict\n",
    "\n",
    "# Counting with dictionaries\n",
    "from collections import defaultdict\n",
    "\n",
    "my_dict = defaultdict(int)\n",
    "my_dict['key1'] += 1\n",
    "\n",
    "print(my_dict)\n",
    "\n",
    "# Grouping items by key.\n",
    "data = [('apple', 'red'), ('banana', 'yellow'), ('apple', 'green'), ('orange', 'orange')]\n",
    "grouped = defaultdict(list)\n",
    "for fruit, color in data:\n",
    "    grouped[fruit].append(color)\n",
    "\n",
    "print(grouped)\n",
    "\n"
   ]
  },
  {
   "cell_type": "code",
   "execution_count": 6,
   "metadata": {},
   "outputs": [
    {
     "name": "stdout",
     "output_type": "stream",
     "text": [
      "0\n"
     ]
    }
   ],
   "source": [
    "x = None\n",
    "safe_x = x if x is not None else 0\n",
    "print(safe_x)"
   ]
  },
  {
   "cell_type": "code",
   "execution_count": 12,
   "metadata": {},
   "outputs": [
    {
     "name": "stdout",
     "output_type": "stream",
     "text": [
      "{'My': 2, 'name': 4, 'is': 6, 'Vaibhav': 8}\n",
      "[('Vaibhav', 8), ('is', 6), ('name', 4), ('My', 2)]\n"
     ]
    }
   ],
   "source": [
    "keys = ['My','name','is','Vaibhav']\n",
    "values = [2,4,6,8]\n",
    "word_counts =  dict(zip(keys,values))\n",
    "print(word_counts)\n",
    "wc = sorted(word_counts.items(),\n",
    "           key = lambda word_and_count : word_and_count[1],\n",
    "           reverse = True)\n",
    "print(wc)"
   ]
  },
  {
   "cell_type": "code",
   "execution_count": 13,
   "metadata": {},
   "outputs": [
    {
     "name": "stdout",
     "output_type": "stream",
     "text": [
      "[0, 0, 0, 0]\n"
     ]
    }
   ],
   "source": [
    "even_numbers = [2,4,6,8]\n",
    "zeros = [0 for _ in even_numbers]\n",
    "print(zeros)"
   ]
  },
  {
   "cell_type": "code",
   "execution_count": 15,
   "metadata": {},
   "outputs": [
    {
     "name": "stdout",
     "output_type": "stream",
     "text": [
      "[(0, 1), (0, 2), (0, 3), (0, 4), (0, 5), (0, 6), (0, 7), (0, 8), (0, 9), (1, 2), (1, 3), (1, 4), (1, 5), (1, 6), (1, 7), (1, 8), (1, 9), (2, 3), (2, 4), (2, 5), (2, 6), (2, 7), (2, 8), (2, 9), (3, 4), (3, 5), (3, 6), (3, 7), (3, 8), (3, 9), (4, 5), (4, 6), (4, 7), (4, 8), (4, 9), (5, 6), (5, 7), (5, 8), (5, 9), (6, 7), (6, 8), (6, 9), (7, 8), (7, 9), (8, 9)]\n"
     ]
    }
   ],
   "source": [
    "increasing_pairs = [(x,y)\n",
    "                   for x in range(10)\n",
    "                   for y in range(x+1,10)]\n",
    "print(increasing_pairs)"
   ]
  },
  {
   "cell_type": "code",
   "execution_count": 18,
   "metadata": {},
   "outputs": [
    {
     "name": "stdout",
     "output_type": "stream",
     "text": [
      "2\n"
     ]
    }
   ],
   "source": [
    "assert 2+2 == 4\n",
    "assert 2+2 == 4, \"2+2 should be equal to 4 but didn't\"\n",
    "b= len(r\"\\t\")\n",
    "print(b)"
   ]
  },
  {
   "cell_type": "code",
   "execution_count": 35,
   "metadata": {},
   "outputs": [
    {
     "name": "stdout",
     "output_type": "stream",
     "text": [
      "0\n",
      "1\n",
      "0\n",
      "100\n",
      "100\n"
     ]
    }
   ],
   "source": [
    "# Classes are used for encapsulation, modularity, inheritance, polymorphism and abstraction.\n",
    "class CountingClicker:\n",
    "    ''' A class can/should have a docstring, just like a function\n",
    "    '''\n",
    "    # Defining a constructor\n",
    "    def __init__(self, count = 0):\n",
    "        self.count = count\n",
    "    def click(self):\n",
    "        self.count += 1\n",
    "    def reset(self):\n",
    "        self.count = 0\n",
    "clicker1 = CountingClicker() # initialized to 0\n",
    "clicker2 = CountingClicker(100) # starts with count = 100\n",
    "clicker3 = CountingClicker(count = 100) # Another way to start the count from 100\n",
    "print(clicker1.count)\n",
    "clicker1.click()\n",
    "print(clicker1.count)\n",
    "clicker1.reset()\n",
    "print(clicker1.count)\n",
    "print(clicker2.count)\n",
    "print(clicker3.count)"
   ]
  },
  {
   "cell_type": "code",
   "execution_count": 46,
   "metadata": {},
   "outputs": [
    {
     "name": "stdout",
     "output_type": "stream",
     "text": [
      "CountingClicker(count=0)\n",
      "3\n",
      "0\n",
      "0\n",
      "2\n",
      "0\n"
     ]
    }
   ],
   "source": [
    "class CountingClicker:\n",
    "    def __init__(self, count=0):\n",
    "           self.count = count\n",
    "\n",
    "    def __repr__(self): # repr is used to show the string representation of the object\n",
    "        return f\"CountingClicker(count={self.count})\"\n",
    "\n",
    "    def click(self, num_times=1):\n",
    "        self.count += num_times\n",
    "\n",
    "    def read(self):\n",
    "        return self.count\n",
    "\n",
    "    def reset(self):\n",
    "        self.count = 0\n",
    "\n",
    "# Creating an instance of CountingClicker\n",
    "clicker = CountingClicker()\n",
    "print(clicker)  \n",
    "\n",
    "clicker.click(3)\n",
    "print(clicker.read())  \n",
    "\n",
    "clicker.reset()\n",
    "print(clicker.read())\n",
    "\n",
    "clicker = CountingClicker()\n",
    "assert clicker.read() == 0, \"clicker should start with count 0.\"\n",
    "print(clicker.read())\n",
    "clicker.click()\n",
    "clicker.click()\n",
    "print(clicker.read())\n",
    "assert clicker.read() == 2, \"after two clicks, clicker should have count 2.\"\n",
    "clicker.reset()\n",
    "assert clicker.read() == 0, \"after reset, clicker should be back to 0.\"\n",
    "print(clicker.read())"
   ]
  },
  {
   "cell_type": "code",
   "execution_count": 55,
   "metadata": {},
   "outputs": [
    {
     "name": "stdout",
     "output_type": "stream",
     "text": [
      "i:0\n",
      "i:1\n",
      "i:2\n",
      "i:3\n",
      "i:4\n",
      "i:5\n",
      "i:6\n",
      "i:7\n",
      "i:8\n",
      "i:9\n",
      "[0, 2, 4, 6, 8, 10, 12, 14, 16, 18]\n"
     ]
    }
   ],
   "source": [
    "# Iterables and Generators\n",
    "def generate_range(n):\n",
    "    i = 0\n",
    "    while i<n:\n",
    "        yield i #every call to yield produce a value of the generator.\n",
    "        i+=1\n",
    "for i in generate_range(10):\n",
    "    print(f\"i:{i}\")\n",
    "even_below_20 = (i for i in generate_range(20) if i%2 == 0)\n",
    "print(list(even_below_20))"
   ]
  },
  {
   "cell_type": "code",
   "execution_count": 56,
   "metadata": {},
   "outputs": [
    {
     "name": "stdout",
     "output_type": "stream",
     "text": [
      "name 0 is Alice\n",
      "name 1 is Bob\n",
      "name 2 is Charlie\n",
      "name 3 is Debbie\n"
     ]
    }
   ],
   "source": [
    "# Enumerate function to turn values into pairs (index,values)\n",
    "names = [\"Alice\", \"Bob\", \"Charlie\", \"Debbie\"]\n",
    "\n",
    "for i,name in enumerate(names):\n",
    "    print(f\"name {i} is {name}\")"
   ]
  },
  {
   "cell_type": "code",
   "execution_count": 65,
   "metadata": {},
   "outputs": [
    {
     "name": "stdout",
     "output_type": "stream",
     "text": [
      "[0.5714025946899135, 0.4288890546751146, 0.5780913011344704, 0.20609823213950174]\n",
      "[7, 4, 2, 0]\n",
      "[7, 6, 5, 3]\n",
      "[8, 7, 9, 3, 5, 2, 10, 1, 6, 4]\n",
      "Bob\n",
      "[52, 43, 16, 29, 11, 58]\n"
     ]
    }
   ],
   "source": [
    "#Randomness\n",
    "import random\n",
    "random.seed(10) # this ensures we get the same results everytime.\n",
    "four_uniform_randoms = [random.random() for _ in range(4)]\n",
    "print(four_uniform_randoms)\n",
    "\n",
    "# Choose randomly from a range.\n",
    "print([random.randrange(10) for _ in range(4)])\n",
    "print([random.randrange(3,8) for _ in range(4)])\n",
    "\n",
    "# Shuffling the elements.\n",
    "upto_10 = [1,2,3,4,5,6,7,8,9,10]\n",
    "random.shuffle(upto_10)\n",
    "print(upto_10)\n",
    "\n",
    "# choosing one number\n",
    "a = random.choice([\"Alice\",\"Bob\",\"Charlie\"]) # use for loop for choosing duplicates numbers \n",
    "print(a)\n",
    "\n",
    "# Choosing multiple elements\n",
    "b = random.sample(range(60),6) # without replacement\n",
    "print(b)"
   ]
  },
  {
   "cell_type": "code",
   "execution_count": 82,
   "metadata": {},
   "outputs": [
    {
     "name": "stdout",
     "output_type": "stream",
     "text": [
      "True\n",
      "True\n",
      "True\n",
      "['c', 'r', 's']\n",
      "R-D-\n"
     ]
    }
   ],
   "source": [
    "# regular expression module\n",
    "import re\n",
    "re_examples = [\n",
    "    not re.match(\"a\",\"cat\"), # cat doesn't start with a\n",
    "    re.search(\"a\",\"cat\") is not None, # cat has a in it.\n",
    "    not re.search(\"c\",\"dog\"), # dog doesn't have a c in it.\n",
    "    re.split(\"[ab]\",\"carbs\"), # Split on a or b\n",
    "    re.sub(\"[0-9]\",\"-\",\"R2D2\") # Replace digits with dashes\n",
    "]\n",
    "for i in re_examples:\n",
    "    print(i)"
   ]
  },
  {
   "cell_type": "code",
   "execution_count": 94,
   "metadata": {},
   "outputs": [
    {
     "name": "stdout",
     "output_type": "stream",
     "text": [
      "('a', 'b', 'c')\n",
      "(1, 2, 3)\n",
      "3\n",
      "add expects two inputs\n"
     ]
    },
    {
     "data": {
      "text/plain": [
       "3"
      ]
     },
     "execution_count": 94,
     "metadata": {},
     "output_type": "execute_result"
    }
   ],
   "source": [
    "# zip and Argument unpacking\n",
    "# zip function transforms multiple iterable to a single iterable pf tuples\n",
    "list1 = ['a','b','c']\n",
    "list2 = [1,2,3]\n",
    "[pair for pair in zip(list1,list2)]\n",
    "\n",
    "#Unpacking\n",
    "pairs = [('a',1),('b',2),('c',3)]\n",
    "letters, numbers = zip(*pairs)\n",
    "print(letters)\n",
    "print(numbers)\n",
    "\n",
    "# Using with function:\n",
    "def add(a,b): return a+b\n",
    "print(add(1,2))\n",
    "try:\n",
    "    add([1,2])\n",
    "except TypeError:\n",
    "    print(\"add expects two inputs\")\n",
    "add(*[1,2])"
   ]
  },
  {
   "cell_type": "code",
   "execution_count": 102,
   "metadata": {},
   "outputs": [
    {
     "name": "stdout",
     "output_type": "stream",
     "text": [
      "unnamed args: (1, 2)\n",
      "keyword args: {'key': 'word', 'key1': 'word1'}\n"
     ]
    }
   ],
   "source": [
    "def magic(*args,**kwargs):\n",
    "    print('unnamed args:',args)\n",
    "    print('keyword args:', kwargs)\n",
    "magic(1,2,key = \"word\",key1 = \"word1\")"
   ]
  },
  {
   "cell_type": "code",
   "execution_count": 103,
   "metadata": {},
   "outputs": [],
   "source": [
    "# Type annotations increases readability and can be used for error checking through mypy (external tool)\n",
    "# Can also use typing module to make it more specific according to the book.\n",
    "\n",
    "# General way\n",
    "def total(xs: list) -> float: # if we wamt list of floats not really clean\n",
    "    return sum(total)\n",
    "# Using the module\n",
    "from typing import List\n",
    "\n",
    "def total(xs: List[float])-> float:\n",
    "    return sum(total)\n",
    "# If we don't the type \n",
    "from typing import Optional\n",
    "anything: List[int] = []\n",
    "best_so_far: Optional[float] = None # allowed to be either float or None\n",
    "# Can also explore more of this library for other types like: Dict, Iterable, Tuple"
   ]
  },
  {
   "cell_type": "code",
   "execution_count": null,
   "metadata": {},
   "outputs": [],
   "source": []
  }
 ],
 "metadata": {
  "kernelspec": {
   "display_name": "Python 3",
   "language": "python",
   "name": "python3"
  },
  "language_info": {
   "codemirror_mode": {
    "name": "ipython",
    "version": 3
   },
   "file_extension": ".py",
   "mimetype": "text/x-python",
   "name": "python",
   "nbconvert_exporter": "python",
   "pygments_lexer": "ipython3",
   "version": "3.8.5"
  }
 },
 "nbformat": 4,
 "nbformat_minor": 4
}
